{
 "cells": [
  {
   "cell_type": "markdown",
   "metadata": {},
   "source": [
    "#### CONJUNTOS"
   ]
  },
  {
   "cell_type": "code",
   "execution_count": 10,
   "metadata": {},
   "outputs": [
    {
     "name": "stdout",
     "output_type": "stream",
     "text": [
      "{'#linguagem', '#python', '#programacao', '#programador'}\n",
      "{'#digitando', '#java', '#programador'}\n",
      "<class 'set'>\n",
      "<class 'set'>\n"
     ]
    }
   ],
   "source": [
    "hashtags_seg = {\"#python\", \"#programacao\", \"#linguagem\", \"#programador\"}\n",
    "hashtags_ter = {\"#java\", \"#digitando\", \"#programador\", \"#python\"}\n",
    "print(hashtags_seg)\n",
    "print(hashtags_ter)\n",
    "print(type(hashtags_seg))\n",
    "print(type(hashtags_ter))\n",
    "#type set"
   ]
  },
  {
   "cell_type": "code",
   "execution_count": 17,
   "metadata": {},
   "outputs": [
    {
     "ename": "TypeError",
     "evalue": "unsupported operand type(s) for +: 'set' and 'set'",
     "output_type": "error",
     "traceback": [
      "\u001b[1;31m---------------------------------------------------------------------------\u001b[0m",
      "\u001b[1;31mTypeError\u001b[0m                                 Traceback (most recent call last)",
      "Cell \u001b[1;32mIn[17], line 1\u001b[0m\n\u001b[1;32m----> 1\u001b[0m hashtags_seg_e_ter \u001b[38;5;241m=\u001b[39m \u001b[43mhashtags_seg\u001b[49m\u001b[43m \u001b[49m\u001b[38;5;241;43m+\u001b[39;49m\u001b[43m \u001b[49m\u001b[43mhashtags_ter\u001b[49m\n\u001b[0;32m      2\u001b[0m \u001b[38;5;28mprint\u001b[39m(hashtags_seg_e_ter)\n",
      "\u001b[1;31mTypeError\u001b[0m: unsupported operand type(s) for +: 'set' and 'set'"
     ]
    }
   ],
   "source": [
    "hashtags_seg_e_ter = hashtags_seg + hashtags_ter\n",
    "print(hashtags_seg_e_ter)"
   ]
  },
  {
   "cell_type": "code",
   "execution_count": 11,
   "metadata": {},
   "outputs": [],
   "source": [
    "#Países da Europa\n",
    "norte_europa = {'reino unido', 'suecia', 'russia', 'noruega', 'dinamarca'}\n",
    "escandinavia = {'noruega', 'dinamarca', 'suecia'}"
   ]
  },
  {
   "cell_type": "markdown",
   "metadata": {},
   "source": [
    "#### SUBTRAÇÃO EM CONJUNTOS"
   ]
  },
  {
   "cell_type": "code",
   "execution_count": 12,
   "metadata": {},
   "outputs": [
    {
     "name": "stdout",
     "output_type": "stream",
     "text": [
      "Norte Europa sem Escandinavia: {'reino unido', 'russia'}\n"
     ]
    }
   ],
   "source": [
    "norte_europa_menos_escandinavia = norte_europa - escandinavia\n",
    "print(\"Norte Europa sem Escandinavia:\",norte_europa_menos_escandinavia)\n",
    "#resultado: {'reino unido', 'russia'}"
   ]
  },
  {
   "cell_type": "code",
   "execution_count": 13,
   "metadata": {},
   "outputs": [
    {
     "name": "stdout",
     "output_type": "stream",
     "text": [
      "Escandinavia sem norte europa: set()\n"
     ]
    }
   ],
   "source": [
    "escandinavia_menos_ne = escandinavia - norte_europa\n",
    "print(\"Escandinavia sem norte europa:\", escandinavia_menos_ne)\n",
    "#resultado: set() (porque não tem nenhum elemento)"
   ]
  },
  {
   "cell_type": "markdown",
   "metadata": {},
   "source": [
    "#### SOMA DE CONJUNTOS"
   ]
  },
  {
   "cell_type": "code",
   "execution_count": 14,
   "metadata": {},
   "outputs": [
    {
     "name": "stdout",
     "output_type": "stream",
     "text": [
      "Escandinavia e norte europa: {'suecia', 'russia', 'reino unido', 'dinamarca', 'noruega'}\n"
     ]
    }
   ],
   "source": [
    "escandinavia_mais_ne = escandinavia | norte_europa #utiliza-se \" | \" para representar a união entre dois conjuntos\n",
    "print(\"Escandinavia e norte europa:\", escandinavia_mais_ne)\n",
    "#resultado: {'russia', 'dinamarca', 'suecia', 'reino unido', 'noruega'}"
   ]
  },
  {
   "cell_type": "markdown",
   "metadata": {},
   "source": [
    "#### ENCONTRAR EM COMUM"
   ]
  },
  {
   "cell_type": "code",
   "execution_count": 15,
   "metadata": {},
   "outputs": [
    {
     "name": "stdout",
     "output_type": "stream",
     "text": [
      "Norte Europa e Escandinavia: {'noruega', 'suecia', 'dinamarca'}\n"
     ]
    }
   ],
   "source": [
    "#Utilizando o operador \"&\" para encontrar os elementos em comum entre os conjuntos\n",
    "norte_europa_mais_escandinavia = norte_europa & escandinavia\n",
    "print(\"Norte Europa e Escandinavia:\", norte_europa_mais_escandinavia)"
   ]
  },
  {
   "cell_type": "markdown",
   "metadata": {},
   "source": [
    "#### METODOS DE REMOÇÃO E ADIÇÃO NO CONJUNTO"
   ]
  },
  {
   "cell_type": "code",
   "execution_count": 16,
   "metadata": {},
   "outputs": [
    {
     "name": "stdout",
     "output_type": "stream",
     "text": [
      "{'Ciência da Computação', 'Ciência da Computação', 'Física', 'Engenharia de Computação'}\n",
      "{'Ciência da Computação', 'Ciência da Computação', 'Física'}\n"
     ]
    }
   ],
   "source": [
    "Cursos = {'Ciência da Computação', 'Engenharia de Computação', 'Ciência da Computação'}\n",
    "\n",
    "# ADIÇÃO DE UM CURSO\n",
    "Cursos.add('Física')\n",
    "print(Cursos)\n",
    "#Resultado: {'Física', 'Engenharia de Computação', 'Ciência da Computação', 'Ciência da Computação'}\n",
    "\n",
    "\n",
    "# REMOÇÃO DE UM CURSO\n",
    "Cursos.remove('Engenharia de Computação')\n",
    "print(Cursos)\n",
    "# Resultado: {'Física', 'Ciência da Computação', 'Ciência da Computação'}\n"
   ]
  }
 ],
 "metadata": {
  "kernelspec": {
   "display_name": "Python 3",
   "language": "python",
   "name": "python3"
  },
  "language_info": {
   "codemirror_mode": {
    "name": "ipython",
    "version": 3
   },
   "file_extension": ".py",
   "mimetype": "text/x-python",
   "name": "python",
   "nbconvert_exporter": "python",
   "pygments_lexer": "ipython3",
   "version": "3.11.5"
  }
 },
 "nbformat": 4,
 "nbformat_minor": 2
}
