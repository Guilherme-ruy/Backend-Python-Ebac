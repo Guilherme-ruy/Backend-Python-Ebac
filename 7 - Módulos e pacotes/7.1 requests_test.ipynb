{
 "cells": [
  {
   "cell_type": "markdown",
   "metadata": {},
   "source": [
    "##### Instalar a LIB Requests que vamos fazer testes\n",
    "`pip install requests`"
   ]
  },
  {
   "cell_type": "markdown",
   "metadata": {},
   "source": [
    "##### Fazendo Requisição GET"
   ]
  },
  {
   "cell_type": "code",
   "execution_count": null,
   "metadata": {},
   "outputs": [],
   "source": [
    "import requests\n",
    "\n",
    "# Enviando uma requisição GET para uma URL\n",
    "response = requests.get('https://api.github.com')\n",
    "\n",
    "# Verificando o status da requisição\n",
    "print(response.status_code)  # 200 indica sucesso\n",
    "\n",
    "# Imprimindo o conteúdo da resposta\n",
    "print(response.text)  # Mostra o conteúdo em formato de string"
   ]
  },
  {
   "cell_type": "markdown",
   "metadata": {},
   "source": [
    "##### Lidando com a Resposta"
   ]
  },
  {
   "cell_type": "code",
   "execution_count": null,
   "metadata": {},
   "outputs": [],
   "source": [
    "import json\n",
    "response_json = response.json()\n",
    "print(f'Json Response: {response_json}')"
   ]
  },
  {
   "cell_type": "markdown",
   "metadata": {},
   "source": [
    "##### Fazendo uma Requisição POST"
   ]
  },
  {
   "cell_type": "code",
   "execution_count": null,
   "metadata": {},
   "outputs": [],
   "source": [
    "import requests\n",
    "\n",
    "# Dados a serem enviados no corpo da requisição\n",
    "payload = {'username': 'usuario', 'password': 'senha'}\n",
    "\n",
    "# Enviando uma requisição POST com os dados\n",
    "response = requests.post('https://httpbin.org/post', data=payload)\n",
    "\n",
    "# Verificando a resposta\n",
    "print(response.json())  # Exibe a resposta do servidor"
   ]
  },
  {
   "cell_type": "markdown",
   "metadata": {},
   "source": [
    "##### Passando Parâmetros na URL"
   ]
  },
  {
   "cell_type": "code",
   "execution_count": null,
   "metadata": {},
   "outputs": [],
   "source": [
    "# Parâmetros da requisição\n",
    "params = {'q': 'python', 'sort': 'stars'}\n",
    "\n",
    "# Enviando a requisição com parâmetros na URL\n",
    "response = requests.get('https://api.github.com/search/repositories', params=params)\n",
    "\n",
    "# Exibindo a resposta JSON\n",
    "print(response.json())"
   ]
  },
  {
   "cell_type": "markdown",
   "metadata": {},
   "source": [
    "##### Tratando Erros de Requisição"
   ]
  },
  {
   "cell_type": "code",
   "execution_count": null,
   "metadata": {},
   "outputs": [],
   "source": [
    "try:\n",
    "    response = requests.get('https://api.github.com/invalid-endpoint')\n",
    "    response.raise_for_status()  # Levanta uma exceção para erros HTTP\n",
    "except requests.exceptions.HTTPError as err:\n",
    "    print(f\"Erro HTTP: {err}\")\n",
    "except requests.exceptions.RequestException as err:\n",
    "    print(f\"Erro de Requisição: {err}\")"
   ]
  },
  {
   "cell_type": "markdown",
   "metadata": {},
   "source": [
    "##### Tempo de Timeout"
   ]
  },
  {
   "cell_type": "code",
   "execution_count": null,
   "metadata": {},
   "outputs": [],
   "source": [
    "# Definindo um timeout de 5 segundos\n",
    "response = requests.get('https://api.github.com', timeout=5)\n",
    "print(response.status_code)"
   ]
  },
  {
   "cell_type": "markdown",
   "metadata": {},
   "source": [
    "##### Autenticação Básica"
   ]
  },
  {
   "cell_type": "code",
   "execution_count": null,
   "metadata": {},
   "outputs": [],
   "source": [
    "from requests.auth import HTTPBasicAuth\n",
    "\n",
    "# Fazendo uma requisição com autenticação básica\n",
    "response = requests.get('https://api.github.com/user', auth=HTTPBasicAuth('usuario', 'senha'))\n",
    "print(response.status_code)"
   ]
  }
 ],
 "metadata": {
  "kernelspec": {
   "display_name": "Python 3",
   "language": "python",
   "name": "python3"
  },
  "language_info": {
   "name": "python",
   "version": "3.12.5"
  }
 },
 "nbformat": 4,
 "nbformat_minor": 2
}
