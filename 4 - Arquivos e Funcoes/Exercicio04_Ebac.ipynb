{
  "nbformat": 4,
  "nbformat_minor": 0,
  "metadata": {
    "colab": {
      "provenance": []
    },
    "kernelspec": {
      "name": "python3",
      "display_name": "Python 3"
    },
    "language_info": {
      "name": "python"
    }
  },
  "cells": [
    {
      "cell_type": "code",
      "source": [
        "#carros.csv\n",
        "%%writefile carros.csv\n",
        "id,valor_venda,valor_manutencao,portas,pessoas,porta_malas\n",
        "1,vhigh,med,2,2,small\n",
        "2,med,vhigh,2,2,small\n",
        "3,low,vhigh,2,2,small\n",
        "4,low,high,2,2,small\n",
        "5,low,high,2,2,small\n",
        "6,low,high,4,4,big\n",
        "7,low,high,4,4,big\n",
        "8,low,med,2,2,small\n",
        "9,low,med,2,2,small\n",
        "10,low,med,2,2,small\n",
        "11,low,med,4,4,big\n",
        "12,low,low,2,2,small\n",
        "13,low,low,4,4,small\n",
        "14,low,low,4,4,med"
      ],
      "metadata": {
        "colab": {
          "base_uri": "https://localhost:8080/"
        },
        "id": "ebzojor-hzYZ",
        "outputId": "daee69e9-3d78-43ae-ab5b-df96099a109b"
      },
      "execution_count": 1,
      "outputs": [
        {
          "output_type": "stream",
          "name": "stdout",
          "text": [
            "Writing carros.csv\n"
          ]
        }
      ]
    },
    {
      "cell_type": "code",
      "source": [
        "#Roda viva\n",
        "%%writefile musica.txt\n",
        "Roda Viva\n",
        "Chico Buarque\n",
        "Tem dias que a gente se sente\n",
        "Como quem partiu ou morreu\n",
        "A gente estancou de repente\n",
        "Ou foi o mundo então que cresceu\n",
        "A gente quer ter voz ativa\n",
        "No nosso destino mandar\n",
        "Mas eis que chega a roda viva\n",
        "E carrega o destino pra lá\n",
        "Roda mundo, roda-gigante\n",
        "Roda moinho, roda pião\n",
        "O tempo rodou num instante\n",
        "Nas voltas do meu coração\n",
        "A gente vai contra a corrente\n",
        "Até não poder resistir\n",
        "Na volta do barco é que sente\n",
        "O quanto deixou de cumprir\n",
        "Faz tempo que a gente cultiva\n",
        "A mais linda roseira que há\n",
        "Mas eis que chega a roda viva\n",
        "E carrega a roseira pra lá\n",
        "Roda mundo, roda-gigante\n",
        "Roda moinho, roda pião"
      ],
      "metadata": {
        "colab": {
          "base_uri": "https://localhost:8080/"
        },
        "id": "lk3FiJ92h4BA",
        "outputId": "91d6de93-9440-4e72-f040-c348e45f3708"
      },
      "execution_count": 2,
      "outputs": [
        {
          "output_type": "stream",
          "name": "stdout",
          "text": [
            "Writing musica.txt\n"
          ]
        }
      ]
    },
    {
      "cell_type": "code",
      "source": [
        "#1)\n",
        "\n",
        "# leia o arquivo com o comando 'with' utilizando o parametro 'nome_arquivo'\n",
        "# extraia a coluna do arquivo utilizando o parametro 'indice_coluna'\n",
        "# use a estrutura de decisão if/elif/else para fazer a conversão do tipo de dados utilizando o parametro 'tipo_dado'\n",
        "\n",
        "def extrai_coluna_csv(nome_arquivo: str, indice_coluna: int, tipo_dado: str):\n",
        "  coluna = []\n",
        "\n",
        "  with open(nome_arquivo, 'r') as arquivoExtraido:\n",
        "    linhaArquivoExtraido = arquivoExtraido.readline()\n",
        "\n",
        "    while linhaArquivoExtraido:\n",
        "      linhaSeparada = linhaArquivoExtraido.split(sep=',') #cabeçalho\n",
        "      linhaSeparada = linhaArquivoExtraido.split(sep=',') #linha real\n",
        "\n",
        "      try:\n",
        "        if (tipo_dado == 'str'):\n",
        "          valor = str(linhaSeparada[indice_coluna])\n",
        "        elif (tipo_dado == 'int'):\n",
        "          valor = int(linhaSeparada[indice_coluna])\n",
        "        elif (tipo_dado == 'float'):\n",
        "          valor = float(linhaSeparada[indice_coluna])\n",
        "        else:\n",
        "          raise ValueError(f'A conversão de {listaSeparada[indice_coluna]} {type(listaSeparada[indice_coluna])} para {tipo_dado} não e suportada')\n",
        "\n",
        "        coluna.append(valor)\n",
        "      except ValueError as e:\n",
        "        return e\n",
        "\n",
        "      linhaArquivoExtraido = arquivoExtraido.readline()\n",
        "\n",
        "  return coluna\n",
        "\n",
        "resultado = extrai_coluna_csv('carros.csv', 3, 'str')\n",
        "print(resultado)\n"
      ],
      "metadata": {
        "colab": {
          "base_uri": "https://localhost:8080/"
        },
        "id": "ATuGNCh_iRf4",
        "outputId": "03612419-245a-4e9d-f5b6-7145f660d24c"
      },
      "execution_count": 30,
      "outputs": [
        {
          "output_type": "stream",
          "name": "stdout",
          "text": [
            "['portas', '2', '2', '2', '2', '2', '4', '4', '2', '2', '2', '4', '2', '4', '4']\n"
          ]
        }
      ]
    },
    {
      "cell_type": "code",
      "source": [
        "#2)\n",
        "# leia o arquivo com o comando 'with' utilizando o parametro 'nome_arquivo'\n",
        "# extraia a linha do arquivo utilizando o parametro 'numero_linha'\n",
        "# quebre a linha em palavras com o comando split, note que o separador é um espa\n",
        "\n",
        "def extrai_linha_txt(nome_arquivo: str, numero_linha: int):\n",
        "    with open(nome_arquivo, 'r') as msc:\n",
        "        for linhaAtual in range(numero_linha):\n",
        "            nLinha = msc.readline()\n",
        "\n",
        "    palavras_linha = nLinha.rstrip().split(sep=' ')\n",
        "    return palavras_linha\n",
        "\n",
        "resultado2 = extrai_linha_txt(nome_arquivo='musica.txt', numero_linha=9)\n",
        "print(resultado2)"
      ],
      "metadata": {
        "colab": {
          "base_uri": "https://localhost:8080/"
        },
        "id": "4EkbZmvmvJfL",
        "outputId": "c7512fc8-9cdd-412f-a81d-083bcc6424d3"
      },
      "execution_count": 49,
      "outputs": [
        {
          "output_type": "stream",
          "name": "stdout",
          "text": [
            "['Mas', 'eis', 'que', 'chega', 'a', 'roda', 'viva']\n"
          ]
        }
      ]
    }
  ]
}