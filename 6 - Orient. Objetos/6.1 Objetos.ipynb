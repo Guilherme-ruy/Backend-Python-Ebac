{
 "cells": [
  {
   "cell_type": "markdown",
   "metadata": {},
   "source": [
    "##### Definição\n",
    "###### Um objeto é uma instância de uma classe"
   ]
  },
  {
   "cell_type": "code",
   "execution_count": null,
   "metadata": {},
   "outputs": [],
   "source": [
    "class NomeClass(object):\n",
    "    ...\n",
    "\n",
    "objeto = NomeClass() # Instância da classe\n",
    "\n",
    "objeto.atributo # Acessar atributo\n",
    "objeto.metodo() # Acessar metodo"
   ]
  },
  {
   "cell_type": "code",
   "execution_count": null,
   "metadata": {},
   "outputs": [],
   "source": [
    "from time import sleep\n",
    "\n",
    "class Pessoa(object):\n",
    "    def __init__(self, nome:str, idade:int, documento:str):\n",
    "        self.nome = nome\n",
    "        self.idade = idade\n",
    "        self.documento = documento\n",
    "        \n",
    "    def dormir(self, horas:int) -> None: # Este -> None serve apenas como documentação para indicar que o método não retorna nenhum valor.\n",
    "        for hora in range(1, horas+1):\n",
    "            print(f'Dormindo por {hora}, horas')\n",
    "            sleep(1)\n",
    "        \n",
    "    def falar(self, texto:str) -> None:\n",
    "        print(texto)\n",
    "    \n",
    "    def __str__(self) -> str:\n",
    "        return f'{self.nome}, {self.idade} anos e documento numero {self.documento}'\n",
    "\n",
    "andre = Pessoa(nome = 'Andre Perez', idade=30, documento='123')\n",
    "marildo = Pessoa(nome = 'Marildo Danado', idade=16, documento='123')\n",
    "paulao = Pessoa(nome = 'Paulão do Gás', idade=45, documento='123')"
   ]
  },
  {
   "cell_type": "markdown",
   "metadata": {},
   "source": [
    "##### Manipulação / Utilização"
   ]
  },
  {
   "cell_type": "code",
   "execution_count": null,
   "metadata": {},
   "outputs": [],
   "source": [
    "def maior_de_idade(idade:int) -> bool:\n",
    "    return idade >= 18\n",
    "\n",
    "if maior_de_idade(idade=andre.idade):\n",
    "    print(f'{andre.nome} é maior de idade!')"
   ]
  },
  {
   "cell_type": "code",
   "execution_count": null,
   "metadata": {},
   "outputs": [],
   "source": [
    "paulao.dormir(horas=5)\n",
    "paulao.falar(\"Paulão - ACORDEI!\")"
   ]
  }
 ],
 "metadata": {
  "kernelspec": {
   "display_name": "Python 3",
   "language": "python",
   "name": "python3"
  },
  "language_info": {
   "codemirror_mode": {
    "name": "ipython",
    "version": 3
   },
   "file_extension": ".py",
   "mimetype": "text/x-python",
   "name": "python",
   "nbconvert_exporter": "python",
   "pygments_lexer": "ipython3",
   "version": "3.11.5"
  }
 },
 "nbformat": 4,
 "nbformat_minor": 2
}
