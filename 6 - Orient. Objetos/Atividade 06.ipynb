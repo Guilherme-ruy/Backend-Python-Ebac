{
 "cells": [
  {
   "cell_type": "code",
   "execution_count": 1,
   "metadata": {},
   "outputs": [
    {
     "name": "stdout",
     "output_type": "stream",
     "text": [
      "Writing carros.csv\n"
     ]
    }
   ],
   "source": [
    "%%writefile carros.csv\n",
    "id,valor_venda,valor_manutencao,portas,pessoas,porta_malas\n",
    "1,vhigh,med,2,2,small\n",
    "2,med,vhigh,2,2,small\n",
    "3,low,vhigh,2,2,small\n",
    "4,low,high,2,2,small\n",
    "5,low,high,2,2,small\n",
    "6,low,high,4,4,big\n",
    "7,low,high,4,4,big\n",
    "8,low,med,2,2,small\n",
    "9,low,med,2,2,small\n",
    "10,low,med,2,2,small\n",
    "11,low,med,4,4,big\n",
    "12,low,low,2,2,small\n",
    "13,low,low,4,4,small\n",
    "14,low,low,4,4,med"
   ]
  },
  {
   "cell_type": "code",
   "execution_count": 2,
   "metadata": {},
   "outputs": [
    {
     "name": "stdout",
     "output_type": "stream",
     "text": [
      "Writing musica.txt\n"
     ]
    }
   ],
   "source": [
    "%%writefile musica.txt\n",
    "Roda Viva\n",
    "Chico Buarque\n",
    "Tem dias que a gente se sente\n",
    "Como quem partiu ou morreu\n",
    "A gente estancou de repente\n",
    "Ou foi o mundo então que cresceu\n",
    "A gente quer ter voz ativa\n",
    "No nosso destino mandar\n",
    "Mas eis que chega a roda viva\n",
    "E carrega o destino pra lá\n",
    "Roda mundo, roda-gigante\n",
    "Roda moinho, roda pião\n",
    "O tempo rodou num instante\n",
    "Nas voltas do meu coração\n",
    "A gente vai contra a corrente\n",
    "Até não poder resistir\n",
    "Na volta do barco é que sente\n",
    "O quanto deixou de cumprir\n",
    "Faz tempo que a gente cultiva\n",
    "A mais linda roseira que há\n",
    "Mas eis que chega a roda viva\n",
    "E carrega a roseira pra lá\n",
    "Roda mundo, roda-gigante\n",
    "Roda moinho, roda pião"
   ]
  },
  {
   "cell_type": "code",
   "execution_count": 12,
   "metadata": {},
   "outputs": [],
   "source": [
    "class ArquivoTexto(object):\n",
    "    def __init__(self, arquivo: str):\n",
    "        self.arquivo = arquivo\n",
    "        self.conteudo = []\n",
    "        try:\n",
    "            with open(file=arquivo, mode='r', encoding='utf-8') as file:\n",
    "                self.conteudo = file.readlines()\n",
    "        except FileNotFoundError:\n",
    "            print(f\"O arquivo {arquivo} não foi encontrado.\")\n",
    "        except Exception as e:\n",
    "            print(f\"Erro inesperado: {e}\")\n",
    "\n",
    "    def extrair_linha(self, numero_linha: int):\n",
    "        if 0 <= numero_linha < len(self.conteudo):\n",
    "            return self.conteudo[numero_linha].strip()\n",
    "        else:\n",
    "            return \"Linha não encontrada.\""
   ]
  },
  {
   "cell_type": "code",
   "execution_count": 13,
   "metadata": {},
   "outputs": [
    {
     "name": "stdout",
     "output_type": "stream",
     "text": [
      "Roda Viva\n",
      "Mas eis que chega a roda viva\n"
     ]
    }
   ],
   "source": [
    "arquivo = ArquivoTexto('musica.txt')\n",
    "print(arquivo.extrair_linha(0)) # Roda viva\n",
    "print(arquivo.extrair_linha(8)) # Mas eis que chega..."
   ]
  }
 ],
 "metadata": {
  "kernelspec": {
   "display_name": "Python 3",
   "language": "python",
   "name": "python3"
  },
  "language_info": {
   "codemirror_mode": {
    "name": "ipython",
    "version": 3
   },
   "file_extension": ".py",
   "mimetype": "text/x-python",
   "name": "python",
   "nbconvert_exporter": "python",
   "pygments_lexer": "ipython3",
   "version": "3.11.5"
  }
 },
 "nbformat": 4,
 "nbformat_minor": 2
}
