{
 "cells": [
  {
   "cell_type": "markdown",
   "metadata": {},
   "source": [
    "##### Definição\n",
    "###### Receita para criação de \"objetos\""
   ]
  },
  {
   "cell_type": "code",
   "execution_count": 1,
   "metadata": {},
   "outputs": [
    {
     "ename": "SyntaxError",
     "evalue": "incomplete input (4261322773.py, line 3)",
     "output_type": "error",
     "traceback": [
      "\u001b[1;36m  Cell \u001b[1;32mIn[1], line 3\u001b[1;36m\u001b[0m\n\u001b[1;33m    #self.atributo1 = ...\u001b[0m\n\u001b[1;37m                          ^\u001b[0m\n\u001b[1;31mSyntaxError\u001b[0m\u001b[1;31m:\u001b[0m incomplete input\n"
     ]
    }
   ],
   "source": [
    "class NomeClass(object):\n",
    "    def __init__(self, params): # Executada sempre que criar uma função\n",
    "        #self.atributo1 = ..."
   ]
  },
  {
   "cell_type": "code",
   "execution_count": 2,
   "metadata": {},
   "outputs": [],
   "source": [
    "class Pessoa(object):\n",
    "    def __init__(self):\n",
    "        pass"
   ]
  },
  {
   "cell_type": "code",
   "execution_count": null,
   "metadata": {},
   "outputs": [],
   "source": [
    "class Pessoa(object):\n",
    "    def __init__(self): # Metodo \"mágico\" por conta dos __nome__\n",
    "        pass"
   ]
  },
  {
   "cell_type": "markdown",
   "metadata": {},
   "source": [
    "##### Atributos\n",
    "###### Representam caracteristicas da classe"
   ]
  },
  {
   "cell_type": "code",
   "execution_count": null,
   "metadata": {},
   "outputs": [],
   "source": [
    "class Pessoa(object):\n",
    "    def __init__(self, nome:str, idade:int, documento:str):\n",
    "        self.nome = nome\n",
    "        self.idade = idade\n",
    "        self.documento = documento"
   ]
  },
  {
   "cell_type": "markdown",
   "metadata": {},
   "source": [
    "##### Metodos\n",
    "###### Representam as ações da classe"
   ]
  },
  {
   "cell_type": "code",
   "execution_count": 1,
   "metadata": {},
   "outputs": [],
   "source": [
    "from time import sleep\n",
    "\n",
    "class Pessoa(object):\n",
    "    def __init__(self, nome:str, idade:int, documento:str):\n",
    "        self.nome = nome\n",
    "        self.idade = idade\n",
    "        self.documento = documento\n",
    "        \n",
    "    def dormir(self, horas:int) -> None: # Este -> None serve apenas como documentação para indicar que o método não retorna nenhum valor.\n",
    "        for hora in range(1, horas+1):\n",
    "            print(f'Dormindo por {hora}, horas')\n",
    "            sleep(1)\n",
    "            \n",
    "    def falar(self, texto:str) -> None:\n",
    "        print(texto)\n",
    "        \n",
    "    def __str__(self) -> str:\n",
    "        return f'{self.nome}, {self.idade} anos e documento numero {self.documento}'"
   ]
  }
 ],
 "metadata": {
  "kernelspec": {
   "display_name": "Python 3",
   "language": "python",
   "name": "python3"
  },
  "language_info": {
   "codemirror_mode": {
    "name": "ipython",
    "version": 3
   },
   "file_extension": ".py",
   "mimetype": "text/x-python",
   "name": "python",
   "nbconvert_exporter": "python",
   "pygments_lexer": "ipython3",
   "version": "3.11.5"
  }
 },
 "nbformat": 4,
 "nbformat_minor": 2
}
