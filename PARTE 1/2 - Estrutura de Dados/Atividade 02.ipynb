{
  "nbformat": 4,
  "nbformat_minor": 0,
  "metadata": {
    "colab": {
      "provenance": []
    },
    "kernelspec": {
      "name": "python3",
      "display_name": "Python 3"
    },
    "language_info": {
      "name": "python"
    }
  },
  "cells": [
    {
      "cell_type": "code",
      "source": [
        "#1.\n",
        "\n",
        "Filmes = ['Um Sonho de Liberdade', 'O Poderoso Chefão', 'Batman - O Cavaleiro das Trevas',\n",
        "          'O Poderoso Chefão II', '12 Homens e uma Sentença', 'A Lista de Schindler',\n",
        "          'O Senhor dos Anéis: O Retorno do Rei', 'Pulp Fiction - Tempo de Violência',\n",
        "          'O Senhor dos Anéis: A Sociedade do Anel', 'Três Homens em Conflito']\n",
        "print(Filmes)\n",
        "\n",
        "FilmesPop = Filmes\n",
        "FilmesPop.pop(0)\n",
        "print(FilmesPop)\n",
        "\n",
        "FilmesInsert = FilmesPop\n",
        "FilmesInsert.insert(1, 'Um Sonho de Liberdade')\n",
        "print(FilmesInsert)\n",
        "\n",
        "#Creio ser isso, fiz com variáveis diferentes para observarmos as modificações"
      ],
      "metadata": {
        "colab": {
          "base_uri": "https://localhost:8080/"
        },
        "id": "4fKEkpZVNT6s",
        "outputId": "b02239ec-b50f-4435-c6b8-654afd91b23b"
      },
      "execution_count": 40,
      "outputs": [
        {
          "output_type": "stream",
          "name": "stdout",
          "text": [
            "['Um Sonho de Liberdade', 'O Poderoso Chefão', 'Batman - O Cavaleiro das Trevas', 'O Poderoso Chefão II', '12 Homens e uma Sentença', 'A Lista de Schindler', 'O Senhor dos Anéis: O Retorno do Rei', 'Pulp Fiction - Tempo de Violência', 'O Senhor dos Anéis: A Sociedade do Anel', 'Três Homens em Conflito']\n",
            "['O Poderoso Chefão', 'Batman - O Cavaleiro das Trevas', 'O Poderoso Chefão II', '12 Homens e uma Sentença', 'A Lista de Schindler', 'O Senhor dos Anéis: O Retorno do Rei', 'Pulp Fiction - Tempo de Violência', 'O Senhor dos Anéis: A Sociedade do Anel', 'Três Homens em Conflito']\n",
            "['O Poderoso Chefão', 'Um Sonho de Liberdade', 'Batman - O Cavaleiro das Trevas', 'O Poderoso Chefão II', '12 Homens e uma Sentença', 'A Lista de Schindler', 'O Senhor dos Anéis: O Retorno do Rei', 'Pulp Fiction - Tempo de Violência', 'O Senhor dos Anéis: A Sociedade do Anel', 'Três Homens em Conflito']\n"
          ]
        }
      ]
    },
    {
      "cell_type": "code",
      "source": [
        "#2.\n",
        "Filmes2 = ['Um Sonho de Liberdade', 'O Poderoso Chefão', 'Batman - O Cavaleiro das Trevas',\n",
        "          'O Poderoso Chefão II', '12 Homens e uma Sentença', 'A Lista de Schindler',\n",
        "          'O Senhor dos Anéis: O Retorno do Rei', 'Pulp Fiction - Tempo de Violência',\n",
        "          'O Senhor dos Anéis: A Sociedade do Anel', 'Três Homens em Conflito',\n",
        "          'Pulp Fiction - Tempo de Violência','O Senhor dos Anéis: A Sociedade do Anel',\n",
        "          'Três Homens em Conflito']\n",
        "\n",
        "print(Filmes2)\n",
        "print(set(Filmes2))"
      ],
      "metadata": {
        "colab": {
          "base_uri": "https://localhost:8080/"
        },
        "id": "63d4_umcQgSF",
        "outputId": "481ab003-cd5b-4445-e8bd-a9caacfcd1fd"
      },
      "execution_count": 49,
      "outputs": [
        {
          "output_type": "stream",
          "name": "stdout",
          "text": [
            "['Um Sonho de Liberdade', 'O Poderoso Chefão', 'Batman - O Cavaleiro das Trevas', 'O Poderoso Chefão II', '12 Homens e uma Sentença', 'A Lista de Schindler', 'O Senhor dos Anéis: O Retorno do Rei', 'Pulp Fiction - Tempo de Violência', 'O Senhor dos Anéis: A Sociedade do Anel', 'Três Homens em Conflito', 'Pulp Fiction - Tempo de Violência', 'O Senhor dos Anéis: A Sociedade do Anel', 'Três Homens em Conflito']\n",
            "{'O Senhor dos Anéis: O Retorno do Rei', '12 Homens e uma Sentença', 'Um Sonho de Liberdade', 'Batman - O Cavaleiro das Trevas', 'O Poderoso Chefão', 'A Lista de Schindler', 'Pulp Fiction - Tempo de Violência', 'O Senhor dos Anéis: A Sociedade do Anel', 'Três Homens em Conflito', 'O Poderoso Chefão II'}\n"
          ]
        }
      ]
    },
    {
      "cell_type": "code",
      "execution_count": 58,
      "metadata": {
        "colab": {
          "base_uri": "https://localhost:8080/"
        },
        "id": "gXDVcXcQCPLg",
        "outputId": "71f7691f-f268-4937-8618-67d626162ab2"
      },
      "outputs": [
        {
          "output_type": "stream",
          "name": "stdout",
          "text": [
            "[{'nome': 'Um Sonho de Liberdade', 'ano': 1994, 'sinopse': 'Dois homens presos se reúnem ao longo de vários anos, encontrando, consolo e eventual redenção através de atos de decência comum.'}, {'nome': 'O Poderoso Chefão', 'ano': 1972, 'sinopse': 'O patriarca idoso de uma dinastia do crime organizado transfere o controle de seu império clandestino para seu filho relutante.'}, {'nome': 'Batman - O Cavaleiro das Trevas', 'ano': 2008, 'sinopse': 'Agora com a ajuda do tenente Jim Gordon e do promotor público Harvey Dent, Batman tem tudo para banir o crime de Gotham City de uma vez por todas. Mas em breve, os três serão vítimas do Coringa, que pretende lançar Gotham em uma anarquia.'}, {'nome': 'O Poderoso Chefão II', 'ano': 1974, 'sinopse': 'Em 1950, Michael Corleone, agora à frente da família, tenta expandir o negócio do crime a Las Vegas, Los Angeles e Cuba. Paralelamente, é revelada a história de Vito Corleone, e de como saiu da Sicília e chegou a Nova Iorque.'}, {'nome': '12 Homens e uma Sentença', 'ano': 1957, 'sinopse': 'O julgamento de um assassinato em Nova Iorque é frustrado por um único membro, cujo ceticismo força o júri a considerar cuidadosamente as evidências antes de dar o veredito.'}, {'nome': 'A Lista de Schindler', 'ano': 1993, 'sinopse': 'Na Polônia ocupada pelos alemães durante a Segunda Guerra Mundial, o industrial Oskar Schindler começa a ser preocupar com seus trabalhadores judeus depois de testemunhar sua perseguição pelos nazistas.'}, {'nome': 'O Senhor dos Anéis: O Retorno do Rei', 'ano': 2003, 'sinopse': 'Gandalf e Aragorn lideram o Mundo dos Homens contra o exército de Sauron para desviar o olhar de Frodo e Sam quando eles se aproximam á Montanha da Perdição com o Um Anel.'}, {'nome': 'Pulp Fiction - Tempo de Violência', 'ano': 1994, 'sinopse': 'As vidas de dois assassinos da máfia, um boxeador, um gângster e sua esposa, e um par de bandidos se entrelaçam em quatro histórias de violência e redenção.'}, {'nome': 'O Senhor dos Anéis: A Sociedade do Anel', 'ano': 2001, 'sinopse': 'Um manso hobbit do Condado e oito companheiros partem em uma jornada para destruir o poderoso Um Anel e salvar a Terra-média das Trevas.'}, {'nome': 'Três Homens em Conflito', 'ano': 1966, 'sinopse': 'Um impostor se junta com dois homens para encontrar fortuna num remoto cemitério.'}]\n"
          ]
        },
        {
          "output_type": "execute_result",
          "data": {
            "text/plain": [
              "{'nome': 'Um Sonho de Liberdade',\n",
              " 'ano': 1994,\n",
              " 'sinopse': 'Dois homens presos se reúnem ao longo de vários anos, encontrando, consolo e eventual redenção através de atos de decência comum.'}"
            ]
          },
          "metadata": {},
          "execution_count": 58
        }
      ],
      "source": [
        "# 3.\n",
        "filmesDict = []\n",
        "\n",
        "#Filme 1\n",
        "descFilme = {'nome': 'Um Sonho de Liberdade', 'ano': 1994, 'sinopse':\n",
        "          'Dois homens presos se reúnem ao longo de vários anos, encontrando, consolo e eventual redenção através de atos de decência comum.'}\n",
        "filmesDict.append(descFilme)\n",
        "\n",
        "#Filme 2\n",
        "descFilme = {'nome': 'O Poderoso Chefão', 'ano': 1972, 'sinopse':\n",
        "          'O patriarca idoso de uma dinastia do crime organizado transfere o controle de seu império clandestino para seu filho relutante.'}\n",
        "filmesDict.append(descFilme)\n",
        "\n",
        "#Filme 3\n",
        "descFilme = {'nome': 'Batman - O Cavaleiro das Trevas', 'ano': 2008, 'sinopse':\n",
        "          'Agora com a ajuda do tenente Jim Gordon e do promotor público Harvey Dent, Batman tem tudo para banir o crime de Gotham City de uma vez por todas. Mas em breve, os três serão vítimas do Coringa, que pretende lançar Gotham em uma anarquia.'}\n",
        "filmesDict.append(descFilme)\n",
        "\n",
        "#Filme 4\n",
        "descFilme = {'nome': 'O Poderoso Chefão II', 'ano': 1974, 'sinopse':\n",
        "          'Em 1950, Michael Corleone, agora à frente da família, tenta expandir o negócio do crime a Las Vegas, Los Angeles e Cuba. Paralelamente, é revelada a história de Vito Corleone, e de como saiu da Sicília e chegou a Nova Iorque.'}\n",
        "filmesDict.append(descFilme)\n",
        "\n",
        "#Filme 5\n",
        "descFilme = {'nome': '12 Homens e uma Sentença', 'ano': 1957, 'sinopse':\n",
        "          'O julgamento de um assassinato em Nova Iorque é frustrado por um único membro, cujo ceticismo força o júri a considerar cuidadosamente as evidências antes de dar o veredito.'}\n",
        "filmesDict.append(descFilme)\n",
        "\n",
        "#Filme 6\n",
        "descFilme = {'nome': 'A Lista de Schindler', 'ano': 1993, 'sinopse':\n",
        "          'Na Polônia ocupada pelos alemães durante a Segunda Guerra Mundial, o industrial Oskar Schindler começa a ser preocupar com seus trabalhadores judeus depois de testemunhar sua perseguição pelos nazistas.'}\n",
        "filmesDict.append(descFilme)\n",
        "\n",
        "#Filme 7\n",
        "descFilme = {'nome': 'O Senhor dos Anéis: O Retorno do Rei', 'ano': 2003, 'sinopse':\n",
        "          'Gandalf e Aragorn lideram o Mundo dos Homens contra o exército de Sauron para desviar o olhar de Frodo e Sam quando eles se aproximam á Montanha da Perdição com o Um Anel.'}\n",
        "filmesDict.append(descFilme)\n",
        "\n",
        "#Filme 8\n",
        "descFilme = {'nome': 'Pulp Fiction - Tempo de Violência', 'ano': 1994, 'sinopse':\n",
        "          'As vidas de dois assassinos da máfia, um boxeador, um gângster e sua esposa, e um par de bandidos se entrelaçam em quatro histórias de violência e redenção.'}\n",
        "filmesDict.append(descFilme)\n",
        "\n",
        "#Filme 9\n",
        "descFilme = {'nome': 'O Senhor dos Anéis: A Sociedade do Anel', 'ano': 2001, 'sinopse':\n",
        "          'Um manso hobbit do Condado e oito companheiros partem em uma jornada para destruir o poderoso Um Anel e salvar a Terra-média das Trevas.'}\n",
        "filmesDict.append(descFilme)\n",
        "\n",
        "#Filme 10\n",
        "descFilme = {'nome': 'Três Homens em Conflito', 'ano': 1966, 'sinopse':\n",
        "          'Um impostor se junta com dois homens para encontrar fortuna num remoto cemitério.'}\n",
        "filmesDict.append(descFilme)\n",
        "\n",
        "\n",
        "print(filmesDict)\n",
        "\n",
        "filmesInsert = filmesDict\n",
        "filmesInsert.pop(0)"
      ]
    }
  ]
}