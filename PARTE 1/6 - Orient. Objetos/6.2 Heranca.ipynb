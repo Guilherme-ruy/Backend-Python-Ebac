{
 "cells": [
  {
   "cell_type": "markdown",
   "metadata": {},
   "source": [
    "##### Herança\n",
    "##### Uma especialização da classe"
   ]
  },
  {
   "cell_type": "code",
   "execution_count": 1,
   "metadata": {},
   "outputs": [],
   "source": [
    "# Exemplo\n",
    "\n",
    "class NomeClasse(object):\n",
    "    def __init__(self, params):\n",
    "        ...\n",
    "        \n",
    "class NomeClasseEspecializada(NomeClasse):\n",
    "    def __init__(self, params):\n",
    "        super().__init__(self ,params) # o super conecta os dois objetos"
   ]
  },
  {
   "cell_type": "code",
   "execution_count": 2,
   "metadata": {},
   "outputs": [],
   "source": [
    "# Classe anterior\n",
    "\n",
    "from time import sleep\n",
    "class Pessoa(object):\n",
    "    def __init__(self, nome:str, idade:int, documento:str):\n",
    "        self.nome = nome\n",
    "        self.idade = idade\n",
    "        self.documento = documento\n",
    "        \n",
    "    def dormir(self, horas:int) -> None: # Este -> None serve apenas como documentação para indicar que o método não retorna nenhum valor.\n",
    "        for hora in range(1, horas+1):\n",
    "            print(f'Dormindo por {hora}, horas')\n",
    "            sleep(1)\n",
    "            \n",
    "    def falar(self, texto:str) -> None:\n",
    "        print(texto)\n",
    "        \n",
    "    def __str__(self) -> str:\n",
    "        return f'{self.nome}, {self.idade} anos e documento numero {self.documento}'"
   ]
  },
  {
   "cell_type": "code",
   "execution_count": 4,
   "metadata": {},
   "outputs": [],
   "source": [
    "# Classe nova de Universidade\n",
    "\n",
    "class Universidade(object):\n",
    "    \n",
    "    def __init__(self, nome:str):\n",
    "        self.nome = nome"
   ]
  },
  {
   "cell_type": "code",
   "execution_count": 5,
   "metadata": {},
   "outputs": [],
   "source": [
    "# Classe nova para estudante Herdando classe Pessoa\n",
    "\n",
    "class Estudante(Pessoa):\n",
    "    def __init__(self, nome: str, idade: int, documento: str, universidade: Universidade):\n",
    "        super().__init__(nome=nome, idade=idade, documento=idade)\n",
    "        self.universidade = universidade"
   ]
  },
  {
   "cell_type": "code",
   "execution_count": 18,
   "metadata": {},
   "outputs": [
    {
     "name": "stdout",
     "output_type": "stream",
     "text": [
      "A\n",
      "n\n",
      "d\n",
      "r\n",
      "e\n",
      " \n",
      "E\n",
      "s\n",
      "t\n",
      "u\n",
      "d\n",
      "a\n",
      "n\n",
      "t\n",
      "e\n",
      "Universidade de São Paulo\n"
     ]
    }
   ],
   "source": [
    "usp = Universidade(nome='Universidade de São Paulo')\n",
    "andre = Estudante(nome='Andre Estudante', idade=22, documento=123, universidade=usp)\n",
    "\n",
    "\n",
    "# apenas um teste iterando o nome de andre\n",
    "for valor in andre.nome:\n",
    "    print(valor)\n",
    "    \n",
    "print(andre.universidade.nome)"
   ]
  }
 ],
 "metadata": {
  "kernelspec": {
   "display_name": "Python 3",
   "language": "python",
   "name": "python3"
  },
  "language_info": {
   "codemirror_mode": {
    "name": "ipython",
    "version": 3
   },
   "file_extension": ".py",
   "mimetype": "text/x-python",
   "name": "python",
   "nbconvert_exporter": "python",
   "pygments_lexer": "ipython3",
   "version": "3.11.5"
  }
 },
 "nbformat": 4,
 "nbformat_minor": 2
}
