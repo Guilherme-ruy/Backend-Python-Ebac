{
  "cells": [
    {
      "cell_type": "code",
      "execution_count": 2,
      "metadata": {
        "colab": {
          "base_uri": "https://localhost:8080/"
        },
        "id": "e1jsPeXGjlop",
        "outputId": "d0f3b9ac-fb48-4c23-a66b-5754c965585b"
      },
      "outputs": [
        {
          "name": "stdout",
          "output_type": "stream",
          "text": [
            "Olá mundo\n"
          ]
        }
      ],
      "source": [
        "print('Olá mundo')"
      ]
    },
    {
      "cell_type": "markdown",
      "metadata": {
        "id": "D0a8WFEYjySz"
      },
      "source": [
        "![5968286.png](data:image/png;base64,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)"
      ]
    },
    {
      "cell_type": "code",
      "execution_count": 6,
      "metadata": {
        "colab": {
          "base_uri": "https://localhost:8080/"
        },
        "id": "w2BgCH16kXGF",
        "outputId": "e5eb5a75-1a27-4eb0-cf12-7fbd5bae2ef5"
      },
      "outputs": [
        {
          "name": "stdout",
          "output_type": "stream",
          "text": [
            "O valor total de vendas de A é 961.56\n",
            "A quantidade de vendas de B é 7.000000000000001\n",
            "O ticket medio de C é 3075.6240000000003\n"
          ]
        }
      ],
      "source": [
        "qtdVendasA = 3\n",
        "tktMedioA = 320.52\n",
        "valorTotalA = qtdVendasA * tktMedioA\n",
        "\n",
        "print(f'O valor total de vendas de A é {valorTotalA}')\n",
        "\n",
        "#-----------------------------------------------------\n",
        "\n",
        "valorTotalB = 834.47\n",
        "tktMedioB = 119.21\n",
        "qtdVendasB = valorTotalB / tktMedioB\n",
        "\n",
        "print(f'A quantidade de vendas de B é {qtdVendasB}')\n",
        "\n",
        "#-----------------------------------------------------\n",
        "\n",
        "valorTotalC = 15378.12\n",
        "qtdVendasC = 5\n",
        "tktMedioC = valorTotalC / qtdVendasC\n",
        "\n",
        "print(f'O ticket medio de C é {tktMedioC}')\n"
      ]
    },
    {
      "cell_type": "code",
      "execution_count": null,
      "metadata": {
        "id": "Y4euenCNndlw"
      },
      "outputs": [],
      "source": []
    },
    {
      "cell_type": "code",
      "execution_count": 16,
      "metadata": {
        "colab": {
          "base_uri": "https://localhost:8080/"
        },
        "id": "aBlmWewSnH0V",
        "outputId": "5a8f7974-1f72-4fc7-f7d9-e60e3a09ad9d"
      },
      "outputs": [
        {
          "name": "stdout",
          "output_type": "stream",
          "text": [
            "Roda mundo roda gigante, roda moinho, roda pião.\n",
            "RODA MUNDO RODA GIGANTE, RODA MOINHO, RODA PIÃO.\n",
            "['Roda', 'mundo', 'roda', 'gigante,', 'roda', 'moinho,', 'roda', 'pião.']\n",
            "False\n"
          ]
        }
      ],
      "source": [
        "cancao = f'Roda mundo roda gigante, roda moinho, roda pião.'\n",
        "cancaoUpper = cancao.upper()\n",
        "cancaoStrip = cancao.split(' ')\n",
        "cancaoLower = cancao.isdigit()\n",
        "\n",
        "print(cancao)\n",
        "print(cancaoUpper)\n",
        "print(cancaoStrip)\n",
        "print(cancaoLower)"
      ]
    },
    {
      "cell_type": "code",
      "execution_count": 6,
      "metadata": {
        "colab": {
          "base_uri": "https://localhost:8080/"
        },
        "id": "-Plq-0oMoEY1",
        "outputId": "95354a78-f437-40b3-c4ba-b6fc2d1f957f"
      },
      "outputs": [
        {
          "name": "stdout",
          "output_type": "stream",
          "text": [
            "Valor da taxa Selic = 2,75% pela primeira vez em 6 anos!\n"
          ]
        }
      ],
      "source": [
        "noticia = f'Selic vai a 2,75% e supera expectativas; é a primeira alta em 6 anos.'\n",
        "selic = noticia[12:17]\n",
        "ano = noticia[62]\n",
        "print(f'Valor da taxa Selic = {selic} pela primeira vez em {ano} anos!')"
      ]
    },
    {
      "cell_type": "code",
      "execution_count": 28,
      "metadata": {
        "colab": {
          "base_uri": "https://localhost:8080/"
        },
        "id": "gFj0Q4JZo8Jv",
        "outputId": "9a77887e-ef5a-40d0-e333-b0ac404c0de1"
      },
      "outputs": [
        {
          "name": "stdout",
          "output_type": "stream",
          "text": [
            "True\n"
          ]
        }
      ],
      "source": [
        "#Pelo \"not\" inverter o boolean, transforma-se A em True\n",
        "#Onde ambos (A e B) sejam true, possibilitanto a certeza\n",
        "#De que X é True\n",
        "a = False\n",
        "b = True\n",
        "\n",
        "x = not a & b\n",
        "print(x)"
      ]
    }
  ],
  "metadata": {
    "colab": {
      "provenance": []
    },
    "kernelspec": {
      "display_name": "Python 3",
      "name": "python3"
    },
    "language_info": {
      "codemirror_mode": {
        "name": "ipython",
        "version": 3
      },
      "file_extension": ".py",
      "mimetype": "text/x-python",
      "name": "python",
      "nbconvert_exporter": "python",
      "pygments_lexer": "ipython3",
      "version": "3.11.5"
    }
  },
  "nbformat": 4,
  "nbformat_minor": 0
}
