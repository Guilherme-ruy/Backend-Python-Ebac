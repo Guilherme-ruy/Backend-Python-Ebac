{
 "cells": [
  {
   "cell_type": "markdown",
   "metadata": {},
   "source": [
    "## ATIVIDADE 05"
   ]
  },
  {
   "cell_type": "code",
   "execution_count": 1,
   "metadata": {},
   "outputs": [],
   "source": [
    "# Vamos criar o arquivo `credito.csv` com os dados fornecidos\n",
    "with open('credito.csv', 'w', encoding='utf8') as f:\n",
    "    f.write(\"\"\"id_vendedor,valor_emprestimos,quantidade_emprestimos,data\n",
    "104271,448.0,1,20161208\n",
    "21476,826.7,3,20161208\n",
    "87440,313.6,3,20161208\n",
    "15980,-8008.0,6,20161208\n",
    "215906,2212.0,5,20161208\n",
    "33696,2771.3,2,20161208\n",
    "33893,2240.0,3,20161208\n",
    "214946,-4151.0,18,20161208\n",
    "123974,2021.95,2,20161208\n",
    "225870,4039.0,2,20161208\n",
    "\"\"\")"
   ]
  },
  {
   "cell_type": "code",
   "execution_count": 4,
   "metadata": {},
   "outputs": [
    {
     "name": "stdout",
     "output_type": "stream",
     "text": [
      "[{'id_vendedor': '104271', 'valor_emprestimos': '448.0', 'quantidade_emprestimos': '1', 'data': '20161208'}, {'id_vendedor': '21476', 'valor_emprestimos': '826.7', 'quantidade_emprestimos': '3', 'data': '20161208'}, {'id_vendedor': '87440', 'valor_emprestimos': '313.6', 'quantidade_emprestimos': '3', 'data': '20161208'}, {'id_vendedor': '15980', 'valor_emprestimos': '-8008.0', 'quantidade_emprestimos': '6', 'data': '20161208'}, {'id_vendedor': '215906', 'valor_emprestimos': '2212.0', 'quantidade_emprestimos': '5', 'data': '20161208'}, {'id_vendedor': '33696', 'valor_emprestimos': '2771.3', 'quantidade_emprestimos': '2', 'data': '20161208'}, {'id_vendedor': '33893', 'valor_emprestimos': '2240.0', 'quantidade_emprestimos': '3', 'data': '20161208'}, {'id_vendedor': '214946', 'valor_emprestimos': '-4151.0', 'quantidade_emprestimos': '18', 'data': '20161208'}, {'id_vendedor': '123974', 'valor_emprestimos': '2021.95', 'quantidade_emprestimos': '2', 'data': '20161208'}, {'id_vendedor': '225870', 'valor_emprestimos': '4039.0', 'quantidade_emprestimos': '2', 'data': '20161208'}]\n"
     ]
    }
   ],
   "source": [
    "# Leitura do arquivo e criação da lista de dicionários\n",
    "emprestimos = []\n",
    "with open('credito.csv', mode='r', encoding='utf8') as fp:\n",
    "    fp.readline()  # Ignorar o cabeçalho\n",
    "    linha = fp.readline()\n",
    "    while linha:\n",
    "        linha_emprestimo = {}\n",
    "        linha_elementos = linha.strip().split(sep=',')\n",
    "        linha_emprestimo['id_vendedor'] = linha_elementos[0]\n",
    "        linha_emprestimo['valor_emprestimos'] = linha_elementos[1]\n",
    "        linha_emprestimo['quantidade_emprestimos'] = linha_elementos[2]\n",
    "        linha_emprestimo['data'] = linha_elementos[3]\n",
    "        emprestimos.append(linha_emprestimo)\n",
    "        linha = fp.readline()\n",
    "print(emprestimos)"
   ]
  },
  {
   "cell_type": "markdown",
   "metadata": {},
   "source": [
    "### Exercicio 01 - Map"
   ]
  },
  {
   "cell_type": "code",
   "execution_count": 5,
   "metadata": {},
   "outputs": [
    {
     "name": "stdout",
     "output_type": "stream",
     "text": [
      "[448.0, 826.7, 313.6, -8008.0, 2212.0, 2771.3, 2240.0, -4151.0, 2021.95, 4039.0]\n"
     ]
    }
   ],
   "source": [
    "# Extrair os valores de 'valor_emprestimos' e converter para float\n",
    "valor_emprestimos_lista = list(map(lambda x: float(x['valor_emprestimos']), emprestimos))\n",
    "print(valor_emprestimos_lista)  # [448.0, 826.7, ..., 4039.0]"
   ]
  },
  {
   "cell_type": "markdown",
   "metadata": {},
   "source": [
    "### Exercicio 02 - Filter"
   ]
  },
  {
   "cell_type": "code",
   "execution_count": 6,
   "metadata": {},
   "outputs": [
    {
     "name": "stdout",
     "output_type": "stream",
     "text": [
      "[448.0, 826.7, 313.6, 2212.0, 2771.3, 2240.0, 2021.95, 4039.0]\n"
     ]
    }
   ],
   "source": [
    "# Filtrar valores maiores que zero\n",
    "valor_emprestimos_lista_filtrada = list(filter(lambda x: x > 0, valor_emprestimos_lista))\n",
    "print(valor_emprestimos_lista_filtrada)  # [448.0, 826.7, ..., 4039.0]"
   ]
  },
  {
   "cell_type": "markdown",
   "metadata": {},
   "source": [
    "### Exercicio 03 - Reduce"
   ]
  },
  {
   "cell_type": "markdown",
   "metadata": {},
   "source": [
    "#### Parte 1 - Soma dos valores"
   ]
  },
  {
   "cell_type": "code",
   "execution_count": 10,
   "metadata": {},
   "outputs": [
    {
     "name": "stdout",
     "output_type": "stream",
     "text": [
      "14872.55\n"
     ]
    }
   ],
   "source": [
    "from functools import reduce\n",
    "\n",
    "# Soma dos valores filtrados\n",
    "soma_valor_emprestimos = reduce(lambda acc, x: acc + x, valor_emprestimos_lista_filtrada)\n",
    "print(round(soma_valor_emprestimos,2))  # 14872.55"
   ]
  },
  {
   "cell_type": "markdown",
   "metadata": {},
   "source": [
    "#### Parte 2 - Média aritmética"
   ]
  },
  {
   "cell_type": "code",
   "execution_count": 9,
   "metadata": {},
   "outputs": [
    {
     "name": "stdout",
     "output_type": "stream",
     "text": [
      "1859.07\n"
     ]
    }
   ],
   "source": [
    "# Média aritmética\n",
    "media_valor_emprestimos = soma_valor_emprestimos / len(valor_emprestimos_lista_filtrada)\n",
    "print(round(media_valor_emprestimos,2))  # 1859.07"
   ]
  },
  {
   "cell_type": "markdown",
   "metadata": {},
   "source": [
    "#### Parte 3 - Desvio padrão amostral"
   ]
  },
  {
   "cell_type": "code",
   "execution_count": 11,
   "metadata": {},
   "outputs": [
    {
     "name": "stdout",
     "output_type": "stream",
     "text": [
      "1272.0\n"
     ]
    }
   ],
   "source": [
    "# Cálculo do desvio padrão\n",
    "desvio_padrao_valor_emprestimos = (\n",
    "    reduce(lambda acc, x: acc + (x - media_valor_emprestimos) ** 2, valor_emprestimos_lista_filtrada, 0) \n",
    "    / (len(valor_emprestimos_lista_filtrada) - 1)\n",
    ") ** 0.5\n",
    "print(round(desvio_padrao_valor_emprestimos, 2))  # 1272.0"
   ]
  }
 ],
 "metadata": {
  "kernelspec": {
   "display_name": "Python 3",
   "language": "python",
   "name": "python3"
  },
  "language_info": {
   "codemirror_mode": {
    "name": "ipython",
    "version": 3
   },
   "file_extension": ".py",
   "mimetype": "text/x-python",
   "name": "python",
   "nbconvert_exporter": "python",
   "pygments_lexer": "ipython3",
   "version": "3.13.1"
  }
 },
 "nbformat": 4,
 "nbformat_minor": 2
}
