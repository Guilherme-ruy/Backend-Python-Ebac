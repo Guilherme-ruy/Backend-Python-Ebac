{
 "cells": [
  {
   "cell_type": "markdown",
   "metadata": {},
   "source": [
    "##### FOR e IN\n",
    "###### O laço for é usado para iterar sobre uma sequência (como uma lista, tupla, dicionário, conjunto ou uma string) ou qualquer outro objeto iterável."
   ]
  },
  {
   "cell_type": "code",
   "execution_count": null,
   "metadata": {},
   "outputs": [],
   "source": [
    "iteravel = []\n",
    "for variável in iteravel:\n",
    "    # Bloco de código a ser executado para cada item no iterável\n",
    "    ..."
   ]
  },
  {
   "cell_type": "markdown",
   "metadata": {},
   "source": [
    "###### Exemplo com range"
   ]
  },
  {
   "cell_type": "code",
   "execution_count": null,
   "metadata": {},
   "outputs": [],
   "source": [
    "# Exemplo com Range\n",
    "for i in range(5):\n",
    "    print(i)\n",
    "    \n",
    "print(\"-------\")\n",
    "    \n",
    "# Definindo para começar do 1\n",
    "# Exemplo com Range com inicio e fim\n",
    "for i in range(1, 5):\n",
    "    print(i)\n",
    "    \n",
    "print(\"-------\")\n",
    "\n",
    "# Definindo passos / step\n",
    "# Exemplo com Range com steps\n",
    "for i in range(1, 10, 2):\n",
    "    print(i)"
   ]
  },
  {
   "cell_type": "markdown",
   "metadata": {},
   "source": [
    "###### Exemplo com list"
   ]
  },
  {
   "cell_type": "code",
   "execution_count": 6,
   "metadata": {},
   "outputs": [
    {
     "name": "stdout",
     "output_type": "stream",
     "text": [
      "maçã\n",
      "banana\n",
      "cereja\n",
      "-----\n",
      "Índice 0: maçã\n",
      "Índice 1: banana\n",
      "Índice 2: cereja\n"
     ]
    }
   ],
   "source": [
    "# Exemplo com List\n",
    "frutas = [\"maçã\", \"banana\", \"cereja\"]\n",
    "\n",
    "for fruta in frutas:\n",
    "    print(fruta)\n",
    "    \n",
    "print(\"-----\")\n",
    "\n",
    "#Neste exemplo, o laço for usa range e len para iterar sobre os índices da lista frutas\n",
    "# permitindo acessar tanto o índice quanto o valor correspondente.\n",
    "frutas = [\"maçã\", \"banana\", \"cereja\"]\n",
    "\n",
    "for i in range(len(frutas)):\n",
    "    print(f\"Índice {i}: {frutas[i]}\")\n"
   ]
  },
  {
   "cell_type": "markdown",
   "metadata": {},
   "source": [
    "###### Exemplo com dicionario"
   ]
  },
  {
   "cell_type": "code",
   "execution_count": 13,
   "metadata": {},
   "outputs": [
    {
     "name": "stdout",
     "output_type": "stream",
     "text": [
      "nome\n",
      "idade\n",
      "curso\n",
      "----\n",
      "João\n",
      "20\n",
      "Engenharia\n",
      "----\n",
      "nome: João\n",
      "idade: 20\n",
      "curso: Engenharia\n"
     ]
    }
   ],
   "source": [
    "# Exemplo com Dicionario\n",
    "aluno = {\"nome\": \"João\", \"idade\": 20, \"curso\": \"Engenharia\"}\n",
    "\n",
    "for chave in aluno:\n",
    "    print(chave)\n",
    "    \n",
    "print(\"----\")\n",
    "\n",
    "# Iterando sobre os valores de um dicionário\n",
    "aluno = {\"nome\": \"João\", \"idade\": 20, \"curso\": \"Engenharia\"}\n",
    "\n",
    "for valor in aluno.values():\n",
    "    print(valor)\n",
    "\n",
    "print(\"----\")\n",
    "\n",
    "# Iterando sobre os items de um dicionário\n",
    "aluno = {\"nome\": \"João\", \"idade\": 20, \"curso\": \"Engenharia\"}\n",
    "\n",
    "for chave, valor in aluno.items():\n",
    "    print(f\"{chave}: {valor}\")\n"
   ]
  },
  {
   "cell_type": "markdown",
   "metadata": {},
   "source": [
    "##### BREAK / CONTINUE"
   ]
  },
  {
   "cell_type": "code",
   "execution_count": 15,
   "metadata": {},
   "outputs": [
    {
     "name": "stdout",
     "output_type": "stream",
     "text": [
      "1\n",
      "2\n",
      "3\n",
      "4\n",
      "5\n",
      "6\n",
      "7\n",
      "8\n",
      "9\n",
      "10\n"
     ]
    }
   ],
   "source": [
    "#BREAK\n",
    "for i in range(1, 10*10*10):\n",
    "    print(i)\n",
    "    if i == 10:\n",
    "     break"
   ]
  },
  {
   "cell_type": "code",
   "execution_count": 16,
   "metadata": {},
   "outputs": [
    {
     "name": "stdout",
     "output_type": "stream",
     "text": [
      "o numero 2, é par!\n",
      "o numero 4, é par!\n",
      "o numero 6, é par!\n",
      "o numero 8, é par!\n",
      "o numero 10, é par!\n",
      "o número 15 é impar!\n"
     ]
    }
   ],
   "source": [
    "#CONTINUE\n",
    "par_ou_impar = [2, 4, 6, 8, 10, 15, 18, 20, 21]\n",
    "\n",
    "for numero in par_ou_impar:\n",
    "    if numero % 2 == 0:\n",
    "        print(f\"o numero {numero}, é par\")\n",
    "        continue\n",
    "    else:\n",
    "        print(f\"o número {numero} é impar\")\n",
    "        break"
   ]
  }
 ],
 "metadata": {
  "kernelspec": {
   "display_name": "Python 3",
   "language": "python",
   "name": "python3"
  },
  "language_info": {
   "codemirror_mode": {
    "name": "ipython",
    "version": 3
   },
   "file_extension": ".py",
   "mimetype": "text/x-python",
   "name": "python",
   "nbconvert_exporter": "python",
   "pygments_lexer": "ipython3",
   "version": "3.11.5"
  }
 },
 "nbformat": 4,
 "nbformat_minor": 2
}
