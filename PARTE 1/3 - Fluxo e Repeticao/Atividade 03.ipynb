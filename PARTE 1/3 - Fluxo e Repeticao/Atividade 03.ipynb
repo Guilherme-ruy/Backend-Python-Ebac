{
  "nbformat": 4,
  "nbformat_minor": 0,
  "metadata": {
    "colab": {
      "provenance": []
    },
    "kernelspec": {
      "name": "python3",
      "display_name": "Python 3"
    },
    "language_info": {
      "name": "python"
    }
  },
  "cells": [
    {
      "cell_type": "code",
      "execution_count": 22,
      "metadata": {
        "colab": {
          "base_uri": "https://localhost:8080/"
        },
        "id": "sBtS5gnqFdGQ",
        "outputId": "e88d0935-1a32-44bf-8628-02eaa874b2eb"
      },
      "outputs": [
        {
          "output_type": "stream",
          "name": "stdout",
          "text": [
            "Paises = ['Tunisia', 'Nauru', 'Iceland', 'Myanmar', 'Australia', 'Grenada']\n",
            "=======================================================\n",
            "Encontrado apenas 1 que clicou em anuncio\n",
            "Renda = [24593.33]\n",
            "=======================================================\n",
            "Cidades = ['West Jodi', 'Brandonstad', 'West Colin']\n"
          ]
        }
      ],
      "source": [
        "from ast import Continue\n",
        "propaganda_online = [\n",
        " {\n",
        " 'tempo_gasto_site': 68.95, 'idade': 35,\n",
        " 'renda_area': 61833.90, 'tempo_gasto_internet': 256.09,\n",
        " 'cidade': 'Wrightburgh', 'pais': 'Tunisia',\n",
        " 'clicou_no_ad': 0\n",
        " },\n",
        " {\n",
        " 'tempo_gasto_site': 80.23, 'idade': 31,\n",
        " 'renda_area': 68441.85, 'tempo_gasto_internet': 193.77,\n",
        " 'cidade': 'West Jodi', 'pais': 'Nauru',\n",
        " 'clicou_no_ad': 0\n",
        " },\n",
        " {\n",
        " 'tempo_gasto_site': 69.47, 'idade': 26,\n",
        " 'renda_area': 59785.94, 'tempo_gasto_internet': 236.50,\n",
        " 'cidade': 'Davidton', 'pais': 'San Marino',\n",
        " 'clicou_no_ad': 0\n",
        " },\n",
        " {\n",
        " 'tempo_gasto_site': 68.37, 'idade': 35,\n",
        " 'renda_area': 73889.99, 'tempo_gasto_internet': 225.58,\n",
        " 'cidade': 'South Manuel', 'pais': 'Iceland',\n",
        " 'clicou_no_ad': 0\n",
        " },\n",
        " {\n",
        " 'tempo_gasto_site': 88.91, 'idade': 33,\n",
        " 'renda_area': 53852.85, 'tempo_gasto_internet': 208.36,\n",
        " 'cidade': 'Brandonstad', 'pais': 'Myanmar',\n",
        " 'clicou_no_ad': 0\n",
        " },\n",
        " {\n",
        " 'tempo_gasto_site': None, 'idade': 48,\n",
        " 'renda_area': 24593.33, 'tempo_gasto_internet': 131.76,\n",
        " 'cidade': 'Port Jefferybury', 'pais': 'Australia',\n",
        " 'clicou_no_ad': 1\n",
        " },\n",
        " {\n",
        " 'tempo_gasto_site': 74.53, 'idade': 30,\n",
        " 'renda_area': 68862.00, 'tempo_gasto_internet': 221.51,\n",
        " 'cidade': 'West Colin', 'pais': 'Grenada'\n",
        " },\n",
        " {\n",
        " 'tempo_gasto_site': 69.88, 'idade': 20,\n",
        " 'renda_area': 55642.32, 'tempo_gasto_internet': 183.82,\n",
        " 'cidade': 'Ramirezton', 'pais': 'Ghana',\n",
        " 'clicou_no_ad': 0\n",
        " }\n",
        "]\n",
        "\n",
        "#for dados_user in propaganda_online:\n",
        "  #print(dados_user)\n",
        "\n",
        "\n",
        "\n",
        "#paises\n",
        "paises = []\n",
        "for dados_user in propaganda_online:\n",
        "    if dados_user['idade'] >= 30:\n",
        "        paises.append(dados_user['pais'])\n",
        "print(f\"Paises = {paises}\")\n",
        "\n",
        "print('=======================================================')\n",
        "\n",
        "#leads\n",
        "leads = []\n",
        "for dados_user in propaganda_online:\n",
        "  try:\n",
        "   if dados_user['clicou_no_ad'] == 1:\n",
        "    leads.append(dados_user['renda_area'])\n",
        "  except KeyError:\n",
        "    print(f'Encontrado apenas {len(leads)} que clicou em anuncio')\n",
        "    continue\n",
        "print(f'Renda = {leads}')\n",
        "\n",
        "print('=======================================================')\n",
        "\n",
        "#cidades\n",
        "cidades = []\n",
        "for dados_user in propaganda_online:\n",
        "  try:\n",
        "    tempo_gasto_site = dados_user['tempo_gasto_site']\n",
        "    if tempo_gasto_site >= 70:\n",
        "        cidades.append(dados_user['cidade'])\n",
        "  except TypeError:\n",
        "    Continue\n",
        "print(f\"Cidades = {cidades}\")"
      ]
    },
    {
      "cell_type": "code",
      "source": [],
      "metadata": {
        "id": "1-pq0X63B-4k"
      },
      "execution_count": null,
      "outputs": []
    }
  ]
}