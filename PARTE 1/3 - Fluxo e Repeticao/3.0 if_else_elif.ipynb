{
 "cells": [
  {
   "cell_type": "markdown",
   "metadata": {},
   "source": [
    "##### IF\n",
    "###### A declaração if é usada para testar uma condição. Se a condição for verdadeira (True), o bloco de código dentro do if é executado. Caso contrário, o bloco de código é ignorado."
   ]
  },
  {
   "cell_type": "code",
   "execution_count": null,
   "metadata": {},
   "outputs": [],
   "source": [
    "condicao = ...\n",
    "if condicao:\n",
    "    pass\n",
    "    # Bloco de código a ser executado se a condição for verdadeira"
   ]
  },
  {
   "cell_type": "code",
   "execution_count": 1,
   "metadata": {},
   "outputs": [
    {
     "name": "stdout",
     "output_type": "stream",
     "text": [
      "O número é maior que 5\n"
     ]
    }
   ],
   "source": [
    "numero = 10\n",
    "\n",
    "if numero > 5:\n",
    "    print(\"O número é maior que 5\")"
   ]
  },
  {
   "cell_type": "markdown",
   "metadata": {},
   "source": [
    "##### ELSE\n",
    "###### A declaração else é usada para definir um bloco de código que será executado se a condição do if for falsa (False)."
   ]
  },
  {
   "cell_type": "code",
   "execution_count": null,
   "metadata": {},
   "outputs": [],
   "source": [
    "numero = 3\n",
    "\n",
    "if numero > 5:\n",
    "    print(\"O número é maior que 5\")\n",
    "else:\n",
    "    print(\"O número não é maior que 5\")"
   ]
  },
  {
   "cell_type": "markdown",
   "metadata": {},
   "source": [
    "##### ELIF\n",
    "###### A declaração elif (abreviação de \"else if\") é usada para testar múltiplas condições. Se a primeira condição for falsa, o Python verifica a condição elif. Você pode ter quantas declarações elif forem necessárias."
   ]
  },
  {
   "cell_type": "code",
   "execution_count": 4,
   "metadata": {},
   "outputs": [],
   "source": [
    "condicao1 = ...\n",
    "condicao2 = ...\n",
    "\n",
    "\n",
    "if condicao1:\n",
    "    ...\n",
    "    # Bloco de código a ser executado se condição1 for verdadeira\n",
    "elif condicao2:\n",
    "    ...\n",
    "    # Bloco de código a ser executado se condição2 for verdadeira\n",
    "else:\n",
    "    ...\n",
    "    # Bloco de código a ser executado se todas as condições anteriores forem falsas\n"
   ]
  },
  {
   "cell_type": "code",
   "execution_count": 14,
   "metadata": {},
   "outputs": [
    {
     "name": "stdout",
     "output_type": "stream",
     "text": [
      "Nota C, sua nota é 73.4\n"
     ]
    }
   ],
   "source": [
    "nota = 73.4\n",
    "\n",
    "if nota >= 90:\n",
    "    print(f\"Nota A, sua nota é {nota}\")\n",
    "elif nota >= 80:\n",
    "    print(f\"Nota B, sua nota é {nota}\")\n",
    "elif nota >= 70:\n",
    "    print(f\"Nota C, sua nota é {nota}\")\n",
    "else:\n",
    "    print(f\"Nota D, sua nota é {nota}\")"
   ]
  },
  {
   "cell_type": "markdown",
   "metadata": {},
   "source": [
    "#### Operadores Lógicos: AND, OR e NOT"
   ]
  },
  {
   "cell_type": "markdown",
   "metadata": {},
   "source": [
    "##### AND\n",
    "###### O operador and é usado para combinar duas ou mais condições. Todas as condições precisam ser verdadeiras para que o resultado final seja verdadeiro."
   ]
  },
  {
   "cell_type": "code",
   "execution_count": null,
   "metadata": {},
   "outputs": [],
   "source": [
    "idade = 25\n",
    "habilitacao = True\n",
    "\n",
    "if idade >= 18 and habilitacao:\n",
    "    print(\"Pode dirigir\")\n",
    "else:\n",
    "    print(\"Não pode dirigir\")"
   ]
  },
  {
   "cell_type": "markdown",
   "metadata": {},
   "source": [
    "##### OR\n",
    "###### O operador or é usado para combinar duas ou mais condições. Apenas uma das condições precisa ser verdadeira para que o resultado final seja verdadeiro."
   ]
  },
  {
   "cell_type": "code",
   "execution_count": 15,
   "metadata": {},
   "outputs": [
    {
     "name": "stdout",
     "output_type": "stream",
     "text": [
      "Pode descansar\n"
     ]
    }
   ],
   "source": [
    "feriado = True\n",
    "fim_de_semana = False\n",
    "\n",
    "if feriado or fim_de_semana:\n",
    "    print(\"Pode descansar\")\n",
    "else:\n",
    "    print(\"Tem que trabalhar\")"
   ]
  },
  {
   "cell_type": "markdown",
   "metadata": {},
   "source": [
    "##### NOT\n",
    "###### O operador not é usado para inverter o valor de uma condição. Se a condição for verdadeira, not a torna falsa, e vice-versa."
   ]
  },
  {
   "cell_type": "code",
   "execution_count": 20,
   "metadata": {},
   "outputs": [
    {
     "name": "stdout",
     "output_type": "stream",
     "text": [
      "Pode sair para caminhar\n",
      "Melhor ficar em casa\n"
     ]
    }
   ],
   "source": [
    "chovendo = False\n",
    "\n",
    "if not chovendo:\n",
    "    print(\"Pode sair para caminhar\") #Primeira opcao foi escolhida mesmo sendo False por conta do NOT\n",
    "else:\n",
    "    print(\"Melhor ficar em casa\")\n",
    "    \n",
    "\n",
    "chovendo2 = not False\n",
    "\n",
    "if not chovendo2:\n",
    "    print(\"Pode sair para caminhar\")\n",
    "else:\n",
    "    print(\"Melhor ficar em casa\") #Esta foi escolhida por conta"
   ]
  }
 ],
 "metadata": {
  "kernelspec": {
   "display_name": "Python 3",
   "language": "python",
   "name": "python3"
  },
  "language_info": {
   "codemirror_mode": {
    "name": "ipython",
    "version": 3
   },
   "file_extension": ".py",
   "mimetype": "text/x-python",
   "name": "python",
   "nbconvert_exporter": "python",
   "pygments_lexer": "ipython3",
   "version": "3.11.5"
  }
 },
 "nbformat": 4,
 "nbformat_minor": 2
}
