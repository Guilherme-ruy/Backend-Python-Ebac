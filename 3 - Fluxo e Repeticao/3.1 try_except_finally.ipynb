{
 "cells": [
  {
   "cell_type": "markdown",
   "metadata": {},
   "source": [
    "##### TRY e EXCEPT\n",
    "###### A declaração try permite que você teste um bloco de código em busca de erros. O bloco except permite que você lide com o erro."
   ]
  },
  {
   "cell_type": "code",
   "execution_count": null,
   "metadata": {},
   "outputs": [],
   "source": [
    "try:\n",
    "    ...\n",
    "    # Bloco de código a ser testado para erros\n",
    "except:\n",
    "    ...\n",
    "    # Bloco de código para tratar o erro"
   ]
  },
  {
   "cell_type": "code",
   "execution_count": 5,
   "metadata": {},
   "outputs": [
    {
     "name": "stdout",
     "output_type": "stream",
     "text": [
      "Ocorreu um erro\n"
     ]
    }
   ],
   "source": [
    "try:\n",
    "    resultado = 10 / 0 # não pode divisão por 0, então resulta em um erro\n",
    "    print(resultado)\n",
    "except:\n",
    "    print(\"Ocorreu um erro\") # resposta ao erro de forma genérica"
   ]
  },
  {
   "cell_type": "code",
   "execution_count": 15,
   "metadata": {},
   "outputs": [],
   "source": [
    "try:\n",
    "    resultado = 10 / 0\n",
    "except ZeroDivisionError:\n",
    "    print(\"Erro: Divisão por zero não é permitida\") # resposta ao exclusiva para o erro de divisão por zero (ZeroDivisonError)\n",
    "except:\n",
    "    print(\"Qualquer outro erro que não seja ZeroDivisionError\")\n"
   ]
  },
  {
   "cell_type": "code",
   "execution_count": 13,
   "metadata": {},
   "outputs": [
    {
     "name": "stdout",
     "output_type": "stream",
     "text": [
      "Resultado é 0.0\n"
     ]
    }
   ],
   "source": [
    "try:\n",
    "    resultado = 10 / 2\n",
    "except ZeroDivisionError:\n",
    "    print(\"Erro: Divisão por zero não é permitida\")\n",
    "except Exception: \n",
    "    # pode ser usar Exception prática recomendada porque captura todas as exceções que derivam da classe Exception\n",
    "    # mas exclui aquelas que são mais graves e que normalmente não devem ser capturadas (como SystemExit e KeyboardInterrupt).\n",
    "    print(f\"Qualquer outro erro que não seja ZeroDivisionError, o erro é {Exception}\")\n",
    "else:\n",
    "    print(f\"Resultado é {resultado}\")"
   ]
  },
  {
   "cell_type": "markdown",
   "metadata": {},
   "source": [
    "###### Exemplos de erros pré definidos"
   ]
  },
  {
   "cell_type": "code",
   "execution_count": null,
   "metadata": {},
   "outputs": [],
   "source": [
    "#TypeError\n",
    "try:\n",
    "    soma = \"abc\" + 10\n",
    "except TypeError:\n",
    "    print(\"Erro: Não é possível somar string com número\")"
   ]
  },
  {
   "cell_type": "code",
   "execution_count": null,
   "metadata": {},
   "outputs": [],
   "source": [
    "#ValueError\n",
    "try:\n",
    "    numero = int(\"abc\")\n",
    "except ValueError:\n",
    "    print(\"Erro: Não é possível converter string para número\")"
   ]
  },
  {
   "cell_type": "code",
   "execution_count": null,
   "metadata": {},
   "outputs": [],
   "source": [
    "#FileNotFoundError\n",
    "try:\n",
    "    with open(\"arquivo_inexistente.txt\") as arquivo:\n",
    "        conteudo = arquivo.read()\n",
    "except FileNotFoundError:\n",
    "    print(\"Erro: Arquivo não encontrado\")\n"
   ]
  },
  {
   "cell_type": "markdown",
   "metadata": {},
   "source": [
    "##### FINALLY\n",
    "###### O bloco finally é executado independentemente de uma exceção ter sido levantada ou não."
   ]
  },
  {
   "cell_type": "code",
   "execution_count": 10,
   "metadata": {},
   "outputs": [
    {
     "name": "stdout",
     "output_type": "stream",
     "text": [
      "Resultado é 5.0\n",
      "A execução do bloco try-except-finally terminou\n"
     ]
    }
   ],
   "source": [
    "try:\n",
    "    resultado = 10 / 2\n",
    "except ZeroDivisionError:\n",
    "    print(\"Erro: Divisão por zero não é permitida\")\n",
    "else:\n",
    "    print(f\"Resultado é {resultado}\")\n",
    "finally:\n",
    "    print(\"A execução do bloco try-except-finally terminou\")"
   ]
  }
 ],
 "metadata": {
  "kernelspec": {
   "display_name": "Python 3",
   "language": "python",
   "name": "python3"
  },
  "language_info": {
   "codemirror_mode": {
    "name": "ipython",
    "version": 3
   },
   "file_extension": ".py",
   "mimetype": "text/x-python",
   "name": "python",
   "nbconvert_exporter": "python",
   "pygments_lexer": "ipython3",
   "version": "3.11.5"
  }
 },
 "nbformat": 4,
 "nbformat_minor": 2
}
